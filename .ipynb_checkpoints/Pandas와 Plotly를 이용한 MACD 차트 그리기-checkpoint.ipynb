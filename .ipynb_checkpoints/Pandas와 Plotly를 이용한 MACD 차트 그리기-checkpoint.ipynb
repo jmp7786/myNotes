{
 "cells": [
  {
   "cell_type": "code",
   "execution_count": 2,
   "metadata": {},
   "outputs": [
    {
     "data": {
      "text/html": [
       "<div>\n",
       "<style scoped>\n",
       "    .dataframe tbody tr th:only-of-type {\n",
       "        vertical-align: middle;\n",
       "    }\n",
       "\n",
       "    .dataframe tbody tr th {\n",
       "        vertical-align: top;\n",
       "    }\n",
       "\n",
       "    .dataframe thead th {\n",
       "        text-align: right;\n",
       "    }\n",
       "</style>\n",
       "<table border=\"1\" class=\"dataframe\">\n",
       "  <thead>\n",
       "    <tr style=\"text-align: right;\">\n",
       "      <th></th>\n",
       "      <th>name</th>\n",
       "      <th>code</th>\n",
       "    </tr>\n",
       "  </thead>\n",
       "  <tbody>\n",
       "    <tr>\n",
       "      <th>0</th>\n",
       "      <td>DSR</td>\n",
       "      <td>155660</td>\n",
       "    </tr>\n",
       "    <tr>\n",
       "      <th>1</th>\n",
       "      <td>GS글로벌</td>\n",
       "      <td>001250</td>\n",
       "    </tr>\n",
       "    <tr>\n",
       "      <th>2</th>\n",
       "      <td>HSD엔진</td>\n",
       "      <td>082740</td>\n",
       "    </tr>\n",
       "    <tr>\n",
       "      <th>3</th>\n",
       "      <td>LG이노텍</td>\n",
       "      <td>011070</td>\n",
       "    </tr>\n",
       "    <tr>\n",
       "      <th>4</th>\n",
       "      <td>LS산전</td>\n",
       "      <td>010120</td>\n",
       "    </tr>\n",
       "  </tbody>\n",
       "</table>\n",
       "</div>"
      ],
      "text/plain": [
       "    name    code\n",
       "0    DSR  155660\n",
       "1  GS글로벌  001250\n",
       "2  HSD엔진  082740\n",
       "3  LG이노텍  011070\n",
       "4   LS산전  010120"
      ]
     },
     "execution_count": 2,
     "metadata": {},
     "output_type": "execute_result"
    }
   ],
   "source": [
    "import pandas as pd \n",
    "code_df = pd.read_html('http://kind.krx.co.kr/corpgeneral/corpList.do?method=download&searchType=13', header=0)[0] \n",
    "# 종목코드가 6자리이기 때문에 6자리를 맞춰주기 위해 설정해줌 \n",
    "code_df.종목코드 = code_df.종목코드.map('{:06d}'.format) \n",
    "# 우리가 필요한 것은 회사명과 종목코드이기 때문에 필요없는 column들은 제외해준다. \n",
    "code_df = code_df[['회사명', '종목코드']] \n",
    "# 한글로된 컬럼명을 영어로 바꿔준다. \n",
    "code_df = code_df.rename(columns={'회사명': 'name', '종목코드': 'code'}) \n",
    "code_df.head()\n",
    "\n"
   ]
  },
  {
   "cell_type": "code",
   "execution_count": null,
   "metadata": {},
   "outputs": [],
   "source": []
  }
 ],
 "metadata": {
  "kernelspec": {
   "display_name": "Python 3",
   "language": "python",
   "name": "python3"
  },
  "language_info": {
   "codemirror_mode": {
    "name": "ipython",
    "version": 3
   },
   "file_extension": ".py",
   "mimetype": "text/x-python",
   "name": "python",
   "nbconvert_exporter": "python",
   "pygments_lexer": "ipython3",
   "version": "3.7.6"
  }
 },
 "nbformat": 4,
 "nbformat_minor": 4
}
