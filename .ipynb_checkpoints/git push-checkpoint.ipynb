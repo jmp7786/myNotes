{
 "cells": [
  {
   "cell_type": "code",
   "execution_count": 14,
   "metadata": {},
   "outputs": [
    {
     "name": "stdout",
     "output_type": "stream",
     "text": [
      "Already up to date.\n",
      "[master 7c42f87] 'update'\n",
      " 2 files changed, 0 insertions(+), 0 deletions(-)\n",
      " rename .ipynb_checkpoints/{Untitled1-checkpoint.ipynb => git push-checkpoint.ipynb} (100%)\n",
      " rename Untitled1.ipynb => git push.ipynb (100%)\n"
     ]
    },
    {
     "name": "stderr",
     "output_type": "stream",
     "text": [
      "warning: LF will be replaced by CRLF in .ipynb_checkpoints/git push-checkpoint.ipynb.\n",
      "The file will have its original line endings in your working directory\n",
      "warning: LF will be replaced by CRLF in git push.ipynb.\n",
      "The file will have its original line endings in your working directory\n",
      "To https://github.com/jmp7786/myNotes.git\n",
      "   d8c244f..7c42f87  master -> master\n"
     ]
    }
   ],
   "source": [
    "!git pull && git add . && git commit -m 'update' && git push"
   ]
  },
  {
   "cell_type": "code",
   "execution_count": null,
   "metadata": {},
   "outputs": [],
   "source": []
  }
 ],
 "metadata": {
  "kernelspec": {
   "display_name": "Python 3",
   "language": "python",
   "name": "python3"
  },
  "language_info": {
   "codemirror_mode": {
    "name": "ipython",
    "version": 3
   },
   "file_extension": ".py",
   "mimetype": "text/x-python",
   "name": "python",
   "nbconvert_exporter": "python",
   "pygments_lexer": "ipython3",
   "version": "3.7.6"
  }
 },
 "nbformat": 4,
 "nbformat_minor": 4
}
