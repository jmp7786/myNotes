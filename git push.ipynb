{
 "cells": [
  {
   "cell_type": "code",
   "execution_count": 1,
   "metadata": {},
   "outputs": [
    {
     "name": "stdout",
     "output_type": "stream",
     "text": [
      "Already up to date.\n",
      "[master 44880fe] 'update'\n",
      " 4 files changed, 23 insertions(+), 12596 deletions(-)\n",
      " delete mode 100644 \".ipynb_checkpoints/MACD \\352\\265\\254\\355\\230\\204\\355\\225\\230\\352\\270\\260-Copy1-checkpoint.ipynb\"\n",
      " delete mode 100644 \"MACD \\352\\265\\254\\355\\230\\204\\355\\225\\230\\352\\270\\260-Copy1.ipynb\"\n"
     ]
    },
    {
     "name": "stderr",
     "output_type": "stream",
     "text": [
      "warning: LF will be replaced by CRLF in .ipynb_checkpoints/git push-checkpoint.ipynb.\n",
      "The file will have its original line endings in your working directory\n",
      "warning: LF will be replaced by CRLF in git push.ipynb.\n",
      "The file will have its original line endings in your working directory\n",
      "To https://github.com/jmp7786/myNotes.git\n",
      "   b18ad56..44880fe  master -> master\n"
     ]
    }
   ],
   "source": [
    "!git pull && git add . && git commit -m 'update' && git push"
   ]
  },
  {
   "cell_type": "code",
   "execution_count": null,
   "metadata": {},
   "outputs": [],
   "source": []
  }
 ],
 "metadata": {
  "kernelspec": {
   "display_name": "Python 3",
   "language": "python",
   "name": "python3"
  },
  "language_info": {
   "codemirror_mode": {
    "name": "ipython",
    "version": 3
   },
   "file_extension": ".py",
   "mimetype": "text/x-python",
   "name": "python",
   "nbconvert_exporter": "python",
   "pygments_lexer": "ipython3",
   "version": "3.7.6"
  }
 },
 "nbformat": 4,
 "nbformat_minor": 4
}
