{
 "cells": [
  {
   "cell_type": "code",
   "execution_count": 7,
   "metadata": {},
   "outputs": [
    {
     "name": "stdout",
     "output_type": "stream",
     "text": [
      "Already up to date.\n",
      "[master b18ad56] 'update'\n",
      " 2 files changed, 12580 insertions(+)\n",
      " create mode 100644 \".ipynb_checkpoints/MACD \\352\\265\\254\\355\\230\\204\\355\\225\\230\\352\\270\\260-Copy1-checkpoint.ipynb\"\n",
      " create mode 100644 \"MACD \\352\\265\\254\\355\\230\\204\\355\\225\\230\\352\\270\\260-Copy1.ipynb\"\n"
     ]
    },
    {
     "name": "stderr",
     "output_type": "stream",
     "text": [
      "warning: LF will be replaced by CRLF in .ipynb_checkpoints/MACD 援ы쁽�븯湲�-Copy1-checkpoint.ipynb.\n",
      "The file will have its original line endings in your working directory\n",
      "warning: LF will be replaced by CRLF in MACD 援ы쁽�븯湲�-Copy1.ipynb.\n",
      "The file will have its original line endings in your working directory\n",
      "To https://github.com/jmp7786/myNotes.git\n",
      "   39a1e24..b18ad56  master -> master\n"
     ]
    }
   ],
   "source": [
    "!git pull && git add . && git commit -m 'update' && git push"
   ]
  },
  {
   "cell_type": "code",
   "execution_count": null,
   "metadata": {},
   "outputs": [],
   "source": []
  }
 ],
 "metadata": {
  "kernelspec": {
   "display_name": "Python 3",
   "language": "python",
   "name": "python3"
  },
  "language_info": {
   "codemirror_mode": {
    "name": "ipython",
    "version": 3
   },
   "file_extension": ".py",
   "mimetype": "text/x-python",
   "name": "python",
   "nbconvert_exporter": "python",
   "pygments_lexer": "ipython3",
   "version": "3.7.6"
  }
 },
 "nbformat": 4,
 "nbformat_minor": 4
}
