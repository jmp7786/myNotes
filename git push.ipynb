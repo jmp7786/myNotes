{
 "cells": [
  {
   "cell_type": "code",
   "execution_count": 1,
   "metadata": {},
   "outputs": [
    {
     "name": "stdout",
     "output_type": "stream",
     "text": [
      "Already up to date.\n",
      "[master b388359] 'update'\n",
      " 7 files changed, 6029 insertions(+), 468 deletions(-)\n",
      " create mode 100644 \"\\354\\240\\204\\353\\236\\2651/.ipynb_checkpoints/80 - 20 \\352\\263\\250\\353\\235\\274\\353\\202\\264\\352\\270\\260-checkpoint.ipynb\"\n",
      " create mode 100644 \"\\354\\240\\204\\353\\236\\2651/.ipynb_checkpoints/STOCHASTIC \\352\\265\\254\\355\\225\\230\\352\\270\\2602-checkpoint.ipynb\"\n",
      " create mode 100644 \"\\354\\240\\204\\353\\236\\2651/80 - 20 \\352\\263\\250\\353\\235\\274\\353\\202\\264\\352\\270\\260.ipynb\"\n",
      " create mode 100644 \"\\354\\240\\204\\353\\236\\2651/STOCHASTIC \\352\\265\\254\\355\\225\\230\\352\\270\\2602.ipynb\"\n",
      " create mode 100644 \"\\354\\240\\204\\353\\236\\2651/STOCHASTIC \\352\\270\\260\\353\\260\\230 \\354\\240\\204\\353\\236\\265\"\n"
     ]
    },
    {
     "name": "stderr",
     "output_type": "stream",
     "text": [
      "warning: LF will be replaced by CRLF in STOCHASTIC 援ы븯湲�.ipynb.\n",
      "The file will have its original line endings in your working directory\n",
      "warning: LF will be replaced by CRLF in git push.ipynb.\n",
      "The file will have its original line endings in your working directory\n",
      "warning: LF will be replaced by CRLF in �쟾�왂1/.ipynb_checkpoints/80 - 20 怨⑤씪�궡湲�-checkpoint.ipynb.\n",
      "The file will have its original line endings in your working directory\n",
      "warning: LF will be replaced by CRLF in �쟾�왂1/.ipynb_checkpoints/STOCHASTIC 援ы븯湲�2-checkpoint.ipynb.\n",
      "The file will have its original line endings in your working directory\n",
      "warning: LF will be replaced by CRLF in �쟾�왂1/80 - 20 怨⑤씪�궡湲�.ipynb.\n",
      "The file will have its original line endings in your working directory\n",
      "warning: LF will be replaced by CRLF in �쟾�왂1/STOCHASTIC 援ы븯湲�2.ipynb.\n",
      "The file will have its original line endings in your working directory\n",
      "warning: LF will be replaced by CRLF in �쟾�왂1/STOCHASTIC 湲곕컲 �쟾�왂.\n",
      "The file will have its original line endings in your working directory\n",
      "To https://github.com/jmp7786/myNotes.git\n",
      "   259006c..b388359  master -> master\n"
     ]
    }
   ],
   "source": [
    "!git pull && git add . && git commit -m 'update' && git push"
   ]
  },
  {
   "cell_type": "code",
   "execution_count": null,
   "metadata": {},
   "outputs": [],
   "source": []
  }
 ],
 "metadata": {
  "kernelspec": {
   "display_name": "Python 3",
   "language": "python",
   "name": "python3"
  },
  "language_info": {
   "codemirror_mode": {
    "name": "ipython",
    "version": 3
   },
   "file_extension": ".py",
   "mimetype": "text/x-python",
   "name": "python",
   "nbconvert_exporter": "python",
   "pygments_lexer": "ipython3",
   "version": "3.7.6"
  }
 },
 "nbformat": 4,
 "nbformat_minor": 4
}
