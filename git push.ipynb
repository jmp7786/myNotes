{
 "cells": [
  {
   "cell_type": "code",
   "execution_count": 2,
   "metadata": {},
   "outputs": [
    {
     "name": "stdout",
     "output_type": "stream",
     "text": [
      "Already up to date.\n",
      "[master e06228e] 'update'\n",
      " 3 files changed, 1900 insertions(+), 507 deletions(-)\n"
     ]
    },
    {
     "name": "stderr",
     "output_type": "stream",
     "text": [
      "warning: LF will be replaced by CRLF in git push.ipynb.\n",
      "The file will have its original line endings in your working directory\n",
      "warning: LF will be replaced by CRLF in �쟾�왂1/.ipynb_checkpoints/STOCHASTIC 援ы븯湲�2-checkpoint.ipynb.\n",
      "The file will have its original line endings in your working directory\n",
      "warning: LF will be replaced by CRLF in �쟾�왂1/STOCHASTIC 援ы븯湲�2.ipynb.\n",
      "The file will have its original line endings in your working directory\n",
      "To https://github.com/jmp7786/myNotes.git\n",
      "   b388359..e06228e  master -> master\n"
     ]
    }
   ],
   "source": [
    "!git pull && git add . && git commit -m 'update' && git push"
   ]
  }
 ],
 "metadata": {
  "kernelspec": {
   "display_name": "Python 3",
   "language": "python",
   "name": "python3"
  },
  "language_info": {
   "codemirror_mode": {
    "name": "ipython",
    "version": 3
   },
   "file_extension": ".py",
   "mimetype": "text/x-python",
   "name": "python",
   "nbconvert_exporter": "python",
   "pygments_lexer": "ipython3",
   "version": "3.7.6"
  }
 },
 "nbformat": 4,
 "nbformat_minor": 4
}
